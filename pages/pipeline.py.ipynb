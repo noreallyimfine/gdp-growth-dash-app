{
 "cells": [
  {
   "cell_type": "code",
   "execution_count": 56,
   "metadata": {},
   "outputs": [],
   "source": [
    "import pickle\n",
    "import category_encoders as ce\n",
    "from sklearn.ensemble import GradientBoostingClassifier\n",
    "from sklearn.pipeline import make_pipeline"
   ]
  },
  {
   "cell_type": "code",
   "execution_count": 57,
   "metadata": {
    "scrolled": true
   },
   "outputs": [
    {
     "data": {
      "text/plain": [
       "Pipeline(memory=None,\n",
       "         steps=[('ordinalencoder',\n",
       "                 OrdinalEncoder(cols=['State', 'Sub-industry'],\n",
       "                                drop_invariant=False, handle_missing='value',\n",
       "                                handle_unknown='value',\n",
       "                                mapping=[{'col': 'State',\n",
       "                                          'data_type': dtype('O'),\n",
       "                                          'mapping': North Dakota             1\n",
       "Mideast                  2\n",
       "Kansas                   3\n",
       "Louisiana                4\n",
       "California               5\n",
       "Wisconsin                6\n",
       "Indiana                  7\n",
       "Great Lakes              8\n",
       "Delaware                 9\n",
       "Mississippi             10\n",
       "District of Columbia    11\n",
       "Alaska                  12\n",
       "Arizona                 1...\n",
       "                                            learning_rate=0.1, loss='deviance',\n",
       "                                            max_depth=9, max_features=None,\n",
       "                                            max_leaf_nodes=None,\n",
       "                                            min_impurity_decrease=0.0,\n",
       "                                            min_impurity_split=None,\n",
       "                                            min_samples_leaf=1,\n",
       "                                            min_samples_split=2,\n",
       "                                            min_weight_fraction_leaf=0.0,\n",
       "                                            n_estimators=500,\n",
       "                                            n_iter_no_change=None,\n",
       "                                            presort='auto', random_state=42,\n",
       "                                            subsample=1.0, tol=0.0001,\n",
       "                                            validation_fraction=0.1, verbose=0,\n",
       "                                            warm_start=False))],\n",
       "         verbose=False)"
      ]
     },
     "execution_count": 57,
     "metadata": {},
     "output_type": "execute_result"
    }
   ],
   "source": [
    "train = pickle.load( open('C://Users/ajaco/Desktop/PortfolioProject/pipeline_data.p', 'rb'))\n",
    "\n",
    "\n",
    "X = train[['State', 'Sub-industry', 'Last Year Payroll', 'Last Year Total GDP',\n",
    "            'Last Year Growth Rate', '2 Year Ago Payroll Increase', 'Ten Year Payroll Change']]\n",
    "y = train['This Year Positive Growth']\n",
    "\n",
    "pipeline = make_pipeline(\n",
    "    ce.OrdinalEncoder(),\n",
    "    GradientBoostingClassifier(n_estimators=500, max_depth=9, learning_rate=0.1, random_state=42)\n",
    ")\n",
    "\n",
    "pipeline.fit(X, y)"
   ]
  },
  {
   "cell_type": "code",
   "execution_count": 58,
   "metadata": {},
   "outputs": [
    {
     "data": {
      "text/plain": [
       "Index(['State', 'Sub-industry', 'Last Year Payroll', 'Last Year Total GDP',\n",
       "       'Last Year Growth Rate', '2 Year Ago Payroll Increase',\n",
       "       'Ten Year Payroll Change'],\n",
       "      dtype='object')"
      ]
     },
     "execution_count": 58,
     "metadata": {},
     "output_type": "execute_result"
    }
   ],
   "source": [
    "X.columns"
   ]
  },
  {
   "cell_type": "code",
   "execution_count": 76,
   "metadata": {},
   "outputs": [
    {
     "data": {
      "text/plain": [
       "['pipeline.joblib']"
      ]
     },
     "execution_count": 76,
     "metadata": {},
     "output_type": "execute_result"
    }
   ],
   "source": [
    "from joblib import dump\n",
    "dump(pipeline, 'pipeline.joblib')"
   ]
  },
  {
   "cell_type": "code",
   "execution_count": 14,
   "metadata": {},
   "outputs": [
    {
     "data": {
      "text/plain": [
       "2982         Other transportation equipment manufacturing\n",
       "4542         Other transportation equipment manufacturing\n",
       "1401        Electrical equipment, appliance, and compo...\n",
       "1641                Government and government enterprises\n",
       "1452                      Ambulatory health care services\n",
       "                              ...                        \n",
       "142          Computer systems design and related services\n",
       "760         Amusement, gambling, and recreation indust...\n",
       "4035            Petroleum and coal products manufacturing\n",
       "3407                                        Manufacturing\n",
       "1197                                        Accommodation\n",
       "Name: Sub-industry, Length: 3390, dtype: object"
      ]
     },
     "execution_count": 14,
     "metadata": {},
     "output_type": "execute_result"
    }
   ],
   "source": [
    "train['Sub-industry']"
   ]
  },
  {
   "cell_type": "code",
   "execution_count": 64,
   "metadata": {},
   "outputs": [
    {
     "data": {
      "text/plain": [
       "array([ True])"
      ]
     },
     "execution_count": 64,
     "metadata": {},
     "output_type": "execute_result"
    }
   ],
   "source": [
    "import pandas as pd\n",
    "\n",
    "def predict(state, growth_rate, pay_inc, industry, gdp, payroll, ten_yr_pay):\n",
    "    df = pd.DataFrame(\n",
    "        columns=['State', 'Sub-industry', 'Laste Year Payroll', 'Last Year Total GDP',\n",
    "                 'Last Year Growth Rate', '2 Year Ago Payroll Increase', 'Ten Year Payroll Change'],\n",
    "        data=[[state, industry, payroll, gdp, growth_rate,  pay_inc, ten_yr_pay]]\n",
    "    )\n",
    "    return pipeline.predict(df)\n",
    "\n",
    "predict('Nerbraska', -5, -0.5, ' Accommodation', 111, 100, 0)"
   ]
  },
  {
   "cell_type": "code",
   "execution_count": 46,
   "metadata": {},
   "outputs": [],
   "source": [
    "test = pickle.load( open('C://Users/ajaco/Desktop/PortfolioProject/aug_26_test.p', 'rb'))"
   ]
  },
  {
   "cell_type": "code",
   "execution_count": 44,
   "metadata": {
    "scrolled": true
   },
   "outputs": [
    {
     "data": {
      "text/plain": [
       "['GeoName',\n",
       " 'Description',\n",
       " 'growth_rate_2007',\n",
       " 'growth_rate_2008',\n",
       " 'growth_rate_2009',\n",
       " 'growth_rate_2010',\n",
       " 'growth_rate_2011',\n",
       " 'growth_rate_2012',\n",
       " 'growth_rate_2013',\n",
       " 'growth_rate_2014',\n",
       " 'growth_rate_2015',\n",
       " 'growth_rate_2016',\n",
       " 'total_gdp_2007',\n",
       " 'total_gdp_2008',\n",
       " 'total_gdp_2009',\n",
       " 'total_gdp_2010',\n",
       " 'total_gdp_2011',\n",
       " 'total_gdp_2012',\n",
       " 'total_gdp_2013',\n",
       " 'total_gdp_2014',\n",
       " 'total_gdp_2015',\n",
       " 'total_gdp_2016',\n",
       " 'tax_less_sub_2007',\n",
       " 'tax_less_sub_2008',\n",
       " 'tax_less_sub_2009',\n",
       " 'tax_less_sub_2010',\n",
       " 'tax_less_sub_2011',\n",
       " 'tax_less_sub_2012',\n",
       " 'tax_less_sub_2013',\n",
       " 'tax_less_sub_2014',\n",
       " 'tax_less_sub_2015',\n",
       " 'tax_less_sub_2016',\n",
       " 'payroll_2007',\n",
       " 'payroll_2008',\n",
       " 'payroll_2009',\n",
       " 'payroll_2010',\n",
       " 'payroll_2011',\n",
       " 'payroll_2012',\n",
       " 'payroll_2013',\n",
       " 'payroll_2014',\n",
       " 'payroll_2015',\n",
       " 'payroll_2016',\n",
       " 'taxes_2007',\n",
       " 'taxes_2008',\n",
       " 'taxes_2009',\n",
       " 'taxes_2010',\n",
       " 'taxes_2011',\n",
       " 'taxes_2012',\n",
       " 'taxes_2013',\n",
       " 'taxes_2014',\n",
       " 'taxes_2015',\n",
       " 'taxes_2016',\n",
       " 'subsidies_2007',\n",
       " 'subsidies_2008',\n",
       " 'subsidies_2009',\n",
       " 'subsidies_2010',\n",
       " 'subsidies_2011',\n",
       " 'subsidies_2012',\n",
       " 'subsidies_2013',\n",
       " 'subsidies_2014',\n",
       " 'subsidies_2015',\n",
       " 'subsidies_2016',\n",
       " 'surplus_2007',\n",
       " 'surplus_2008',\n",
       " 'surplus_2009',\n",
       " 'surplus_2010',\n",
       " 'surplus_2011',\n",
       " 'surplus_2012',\n",
       " 'surplus_2013',\n",
       " 'surplus_2014',\n",
       " 'surplus_2015',\n",
       " 'surplus_2016',\n",
       " 'real_gdp_2007',\n",
       " 'real_gdp_2008',\n",
       " 'real_gdp_2009',\n",
       " 'real_gdp_2010',\n",
       " 'real_gdp_2011',\n",
       " 'real_gdp_2012',\n",
       " 'real_gdp_2013',\n",
       " 'real_gdp_2014',\n",
       " 'real_gdp_2015',\n",
       " 'real_gdp_2016',\n",
       " 'quant_index_2007',\n",
       " 'quant_index_2008',\n",
       " 'quant_index_2009',\n",
       " 'quant_index_2010',\n",
       " 'quant_index_2011',\n",
       " 'quant_index_2012',\n",
       " 'quant_index_2013',\n",
       " 'quant_index_2014',\n",
       " 'quant_index_2015',\n",
       " 'quant_index_2016',\n",
       " 'pos_growth_2007',\n",
       " 'pos_growth_2008',\n",
       " 'pos_growth_2009',\n",
       " 'pos_growth_2010',\n",
       " 'pos_growth_2011',\n",
       " 'pos_growth_2012',\n",
       " 'pos_growth_2013',\n",
       " 'pos_growth_2014',\n",
       " 'pos_growth_2015',\n",
       " 'pos_growth_2016',\n",
       " 'pos_growth_2017',\n",
       " 'payroll_2007_increase',\n",
       " 'payroll_2008_increase',\n",
       " 'payroll_2009_increase',\n",
       " 'payroll_2010_increase',\n",
       " 'payroll_2011_increase',\n",
       " 'payroll_2012_increase',\n",
       " 'payroll_2013_increase',\n",
       " 'payroll_2014_increase',\n",
       " 'payroll_2015_increase',\n",
       " 'payroll_2016_increase',\n",
       " 'surplus_increase_2007',\n",
       " 'surplus_increase_2008',\n",
       " 'surplus_increase_2009',\n",
       " 'surplus_increase_2010',\n",
       " 'surplus_increase_2011',\n",
       " 'surplus_increase_2012',\n",
       " 'surplus_increase_2013',\n",
       " 'surplus_increase_2014',\n",
       " 'surplus_increase_2015',\n",
       " 'surplus_increase_2016',\n",
       " 'Industry',\n",
       " 'five_year_payroll',\n",
       " 'ten_year_payroll',\n",
       " 'five_year_gdp',\n",
       " 'ten_year_gdp',\n",
       " 'five_year_tax_increase',\n",
       " 'ten_year_tax_increase',\n",
       " 'gdp_tax_ratio',\n",
       " 'payroll_tax_ratio',\n",
       " 'gdp_payroll_ratio',\n",
       " 'two_year_growth',\n",
       " 'two_year_quant_growth',\n",
       " 'five_year_tax_less_sub',\n",
       " 'ten_year_tax_less_sub',\n",
       " 'change_in_payroll_tax_ratio',\n",
       " 'five_year_payroll_tax_ratio_change',\n",
       " 'ten_year_payroll_tax_ratio_change',\n",
       " 'change_in_gdp_tax_ratio',\n",
       " 'five_year_gdp_tax_ratio_change',\n",
       " 'ten_year_gdp_tax_ratio_change']"
      ]
     },
     "execution_count": 44,
     "metadata": {},
     "output_type": "execute_result"
    }
   ],
   "source": [
    "test.columns.tolist()"
   ]
  },
  {
   "cell_type": "code",
   "execution_count": 47,
   "metadata": {},
   "outputs": [],
   "source": [
    "test = test[['GeoName', 'Description', 'payroll_2016', 'total_gdp_2016', 'growth_rate_2016', 'payroll_2015_increase', 'ten_year_payroll', 'pos_growth_2017']]"
   ]
  },
  {
   "cell_type": "code",
   "execution_count": 48,
   "metadata": {},
   "outputs": [],
   "source": [
    "test.columns = ['State', 'Sub-industry', 'Last Year Payroll', 'Last Year Total GDP',\n",
    "            'Last Year Growth Rate', '2 Year Ago Payroll Increase', 'Ten Year Payroll Change', 'This Year Positive Growth']"
   ]
  },
  {
   "cell_type": "code",
   "execution_count": 65,
   "metadata": {},
   "outputs": [],
   "source": [
    "X_test = test[['State', 'Sub-industry', 'Last Year Payroll', 'Last Year Total GDP',\n",
    "            'Last Year Growth Rate', '2 Year Ago Payroll Increase', 'Ten Year Payroll Change']]\n",
    "y_test = test['This Year Positive Growth']"
   ]
  },
  {
   "cell_type": "code",
   "execution_count": 66,
   "metadata": {},
   "outputs": [],
   "source": [
    "y_pred = pipeline.predict(X_test)"
   ]
  },
  {
   "cell_type": "code",
   "execution_count": 67,
   "metadata": {},
   "outputs": [
    {
     "data": {
      "text/plain": [
       "0.753315649867374"
      ]
     },
     "execution_count": 67,
     "metadata": {},
     "output_type": "execute_result"
    }
   ],
   "source": [
    "pipeline.score(X_test, y_test)"
   ]
  },
  {
   "cell_type": "code",
   "execution_count": 68,
   "metadata": {},
   "outputs": [
    {
     "data": {
      "text/plain": [
       "OrdinalEncoder(cols=['State', 'Sub-industry'], drop_invariant=False,\n",
       "               handle_missing='value', handle_unknown='value',\n",
       "               mapping=[{'col': 'State', 'data_type': dtype('O'),\n",
       "                         'mapping': North Dakota             1\n",
       "Mideast                  2\n",
       "Kansas                   3\n",
       "Louisiana                4\n",
       "California               5\n",
       "Wisconsin                6\n",
       "Indiana                  7\n",
       "Great Lakes              8\n",
       "Delaware                 9\n",
       "Mississippi             10\n",
       "District of Columbia    11\n",
       "Alaska                  12\n",
       "Arizona                 13\n",
       "South Carolina          14\n",
       "Illinois                15\n",
       "Oklahoma                16\n",
       "Kentucky                17...\n",
       "    Electrical equipment, appliance, and component manufacturing                2\n",
       " Government and government enterprises                                          3\n",
       "    Ambulatory health care services                                             4\n",
       "   Other transportation and support activities                                  5\n",
       "                                                                               ..\n",
       "    Textile mills and textile product mills                                    75\n",
       "    Administrative and support services                                        76\n",
       "    Paper manufacturing                                                        77\n",
       "   Administrative and support and waste management and remediation services    78\n",
       "NaN                                                                            -2\n",
       "Length: 79, dtype: int64}],\n",
       "               return_df=True, verbose=0)"
      ]
     },
     "execution_count": 68,
     "metadata": {},
     "output_type": "execute_result"
    }
   ],
   "source": [
    "pipeline.named_steps['ordinalencoder']"
   ]
  },
  {
   "cell_type": "code",
   "execution_count": 55,
   "metadata": {},
   "outputs": [
    {
     "data": {
      "text/plain": [
       "0"
      ]
     },
     "execution_count": 55,
     "metadata": {},
     "output_type": "execute_result"
    }
   ],
   "source": [
    "train['Sub-industry'].isnull().sum()"
   ]
  },
  {
   "cell_type": "code",
   "execution_count": 72,
   "metadata": {},
   "outputs": [],
   "source": [
    "states = test.State.unique()"
   ]
  },
  {
   "cell_type": "code",
   "execution_count": 73,
   "metadata": {},
   "outputs": [
    {
     "data": {
      "text/plain": [
       "'California'"
      ]
     },
     "execution_count": 73,
     "metadata": {},
     "output_type": "execute_result"
    }
   ],
   "source": [
    "states[0]"
   ]
  },
  {
   "cell_type": "code",
   "execution_count": 75,
   "metadata": {},
   "outputs": [
    {
     "data": {
      "text/plain": [
       "395                           Finance and insurance\n",
       "2732                                Wholesale trade\n",
       "1867    Other transportation and support activities\n",
       "3475                               Federal civilian\n",
       "753               Health care and social assistance\n",
       "                           ...                     \n",
       "2328      Waste management and remediation services\n",
       "4105                     Wood product manufacturing\n",
       "1040                         Oil and gas extraction\n",
       "1456            Arts, entertainment, and recreation\n",
       "1473     Agriculture, forestry, fishing and hunting\n",
       "Name: Sub-industry, Length: 1131, dtype: object"
      ]
     },
     "execution_count": 75,
     "metadata": {},
     "output_type": "execute_result"
    }
   ],
   "source": [
    "test['Sub-industry']test['Sub-industry'].str.strip()"
   ]
  },
  {
   "cell_type": "code",
   "execution_count": 79,
   "metadata": {},
   "outputs": [
    {
     "ename": "AssertionError",
     "evalue": "",
     "output_type": "error",
     "traceback": [
      "\u001b[1;31m---------------------------------------------------------------------------\u001b[0m",
      "\u001b[1;31mAssertionError\u001b[0m                            Traceback (most recent call last)",
      "\u001b[1;32m<ipython-input-79-362a517c1166>\u001b[0m in \u001b[0;36m<module>\u001b[1;34m\u001b[0m\n\u001b[1;32m----> 1\u001b[1;33m \u001b[1;32massert\u001b[0m \u001b[0mtrain\u001b[0m\u001b[1;33m[\u001b[0m\u001b[1;34m'Sub-industry'\u001b[0m\u001b[1;33m]\u001b[0m\u001b[1;33m.\u001b[0m\u001b[0munique\u001b[0m\u001b[1;33m(\u001b[0m\u001b[1;33m)\u001b[0m\u001b[1;33m.\u001b[0m\u001b[0mall\u001b[0m\u001b[1;33m(\u001b[0m\u001b[1;33m)\u001b[0m \u001b[1;33m==\u001b[0m \u001b[0mtest\u001b[0m\u001b[1;33m[\u001b[0m\u001b[1;34m'Sub-industry'\u001b[0m\u001b[1;33m]\u001b[0m\u001b[1;33m.\u001b[0m\u001b[0munique\u001b[0m\u001b[1;33m(\u001b[0m\u001b[1;33m)\u001b[0m\u001b[1;33m.\u001b[0m\u001b[0mall\u001b[0m\u001b[1;33m(\u001b[0m\u001b[1;33m)\u001b[0m\u001b[1;33m\u001b[0m\u001b[1;33m\u001b[0m\u001b[0m\n\u001b[0m",
      "\u001b[1;31mAssertionError\u001b[0m: "
     ]
    }
   ],
   "source": [
    "assert train['Sub-industry'].unique().all() == test['Sub-industry'].unique().all()"
   ]
  },
  {
   "cell_type": "code",
   "execution_count": 82,
   "metadata": {},
   "outputs": [
    {
     "ename": "AttributeError",
     "evalue": "'Series' object has no attribute 'strip'",
     "output_type": "error",
     "traceback": [
      "\u001b[1;31m---------------------------------------------------------------------------\u001b[0m",
      "\u001b[1;31mAttributeError\u001b[0m                            Traceback (most recent call last)",
      "\u001b[1;32m<ipython-input-82-d149c6741fc5>\u001b[0m in \u001b[0;36m<module>\u001b[1;34m\u001b[0m\n\u001b[1;32m----> 1\u001b[1;33m \u001b[0mtrain\u001b[0m\u001b[1;33m[\u001b[0m\u001b[1;34m'Sub-industry'\u001b[0m\u001b[1;33m]\u001b[0m \u001b[1;33m=\u001b[0m \u001b[0mtrain\u001b[0m\u001b[1;33m[\u001b[0m\u001b[1;34m'Sub-industry'\u001b[0m\u001b[1;33m]\u001b[0m\u001b[1;33m.\u001b[0m\u001b[0mstrip\u001b[0m\u001b[1;33m(\u001b[0m\u001b[1;33m)\u001b[0m\u001b[1;33m\u001b[0m\u001b[1;33m\u001b[0m\u001b[0m\n\u001b[0m\u001b[0;32m      2\u001b[0m \u001b[1;33m\u001b[0m\u001b[0m\n\u001b[0;32m      3\u001b[0m \u001b[1;33m\u001b[0m\u001b[0m\n\u001b[0;32m      4\u001b[0m \u001b[0mtrain\u001b[0m\u001b[1;33m[\u001b[0m\u001b[1;34m'Sub-industry'\u001b[0m\u001b[1;33m]\u001b[0m\u001b[1;33m\u001b[0m\u001b[1;33m\u001b[0m\u001b[0m\n",
      "\u001b[1;32mc:\\users\\ajaco\\.virtualenvs\\gdp-growth-dash-app-ixz_oqvk\\lib\\site-packages\\pandas\\core\\generic.py\u001b[0m in \u001b[0;36m__getattr__\u001b[1;34m(self, name)\u001b[0m\n\u001b[0;32m   5177\u001b[0m             \u001b[1;32mif\u001b[0m \u001b[0mself\u001b[0m\u001b[1;33m.\u001b[0m\u001b[0m_info_axis\u001b[0m\u001b[1;33m.\u001b[0m\u001b[0m_can_hold_identifiers_and_holds_name\u001b[0m\u001b[1;33m(\u001b[0m\u001b[0mname\u001b[0m\u001b[1;33m)\u001b[0m\u001b[1;33m:\u001b[0m\u001b[1;33m\u001b[0m\u001b[1;33m\u001b[0m\u001b[0m\n\u001b[0;32m   5178\u001b[0m                 \u001b[1;32mreturn\u001b[0m \u001b[0mself\u001b[0m\u001b[1;33m[\u001b[0m\u001b[0mname\u001b[0m\u001b[1;33m]\u001b[0m\u001b[1;33m\u001b[0m\u001b[1;33m\u001b[0m\u001b[0m\n\u001b[1;32m-> 5179\u001b[1;33m             \u001b[1;32mreturn\u001b[0m \u001b[0mobject\u001b[0m\u001b[1;33m.\u001b[0m\u001b[0m__getattribute__\u001b[0m\u001b[1;33m(\u001b[0m\u001b[0mself\u001b[0m\u001b[1;33m,\u001b[0m \u001b[0mname\u001b[0m\u001b[1;33m)\u001b[0m\u001b[1;33m\u001b[0m\u001b[1;33m\u001b[0m\u001b[0m\n\u001b[0m\u001b[0;32m   5180\u001b[0m \u001b[1;33m\u001b[0m\u001b[0m\n\u001b[0;32m   5181\u001b[0m     \u001b[1;32mdef\u001b[0m \u001b[0m__setattr__\u001b[0m\u001b[1;33m(\u001b[0m\u001b[0mself\u001b[0m\u001b[1;33m,\u001b[0m \u001b[0mname\u001b[0m\u001b[1;33m,\u001b[0m \u001b[0mvalue\u001b[0m\u001b[1;33m)\u001b[0m\u001b[1;33m:\u001b[0m\u001b[1;33m\u001b[0m\u001b[1;33m\u001b[0m\u001b[0m\n",
      "\u001b[1;31mAttributeError\u001b[0m: 'Series' object has no attribute 'strip'"
     ]
    }
   ],
   "source": [
    "train['Sub-industry'] = train['Sub-industry'].strip()\n",
    "\n",
    "\n",
    "train['Sub-industry']"
   ]
  },
  {
   "cell_type": "code",
   "execution_count": null,
   "metadata": {},
   "outputs": [],
   "source": []
  }
 ],
 "metadata": {
  "kernelspec": {
   "display_name": "Python 3",
   "language": "python",
   "name": "python3"
  },
  "language_info": {
   "codemirror_mode": {
    "name": "ipython",
    "version": 3
   },
   "file_extension": ".py",
   "mimetype": "text/x-python",
   "name": "python",
   "nbconvert_exporter": "python",
   "pygments_lexer": "ipython3",
   "version": "3.7.3"
  }
 },
 "nbformat": 4,
 "nbformat_minor": 2
}
