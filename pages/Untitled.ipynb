{
 "cells": [
  {
   "cell_type": "code",
   "execution_count": null,
   "metadata": {},
   "outputs": [],
   "source": [
    "@app.callback(\n",
    "    Output('prediction-content', 'children'),\n",
    "    [Input('state', 'value'),\n",
    "     Input('growth_rate', 'value'),\n",
    "     Input('pay_inc', 'value'),\n",
    "     Input('industry', 'value'),\n",
    "     Input('payroll', 'value'),\n",
    "     Input('gdp', 'value'),\n",
    "     Input('ten_yr_pay', 'value')],\n",
    ")\n",
    "\n",
    "def predict(state, growth_rate, payroll, gdp, pay_inc, industry, ten_yr_pay):\n",
    "    df = pd.DataFrame(\n",
    "        columns=['State', 'Sub-industry', 'Laste Year Payroll', 'Last Year Total GDP',\n",
    "                 'Last Year Growth Rate', '2 Year Ago Payroll Increase', 'Ten Year Payroll Change'],\n",
    "        data=[[state, industry, gdp, payroll, growth_rate,  pay_inc, ten_yr_pay]]\n",
    "    )\n",
    "\n",
    "    y_pred = pipeline.predict(df)[0]\n",
    "\n",
    "    return f'{industry} in {state} will {y_pred} this year.'"
   ]
  }
 ],
 "metadata": {
  "kernelspec": {
   "display_name": "Python 3",
   "language": "python",
   "name": "python3"
  },
  "language_info": {
   "codemirror_mode": {
    "name": "ipython",
    "version": 3
   },
   "file_extension": ".py",
   "mimetype": "text/x-python",
   "name": "python",
   "nbconvert_exporter": "python",
   "pygments_lexer": "ipython3",
   "version": "3.7.3"
  }
 },
 "nbformat": 4,
 "nbformat_minor": 4
}
